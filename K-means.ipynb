{
 "cells": [
  {
   "cell_type": "code",
   "execution_count": 106,
   "metadata": {},
   "outputs": [],
   "source": [
    "import pandas\n",
    "import numpy as np\n",
    "import random\n",
    "\n",
    "# 数据读取\n",
    "data = pandas.read_csv(\"data/iris.data\",header=None)\n",
    "\n",
    "# 获取数据基本信息\n",
    "n_samples, n_features = data.shape\n",
    "\n",
    "# 类别\n",
    "y = data.values[:,n_features-1]\n",
    "X = data.values[:,0:n_features-1]\n",
    "\n",
    "# 基本数据\n",
    "samples, features = X.shape\n",
    "\n",
    "# 类别数，为了方便对结果进行校验，去k=实际类别数\n",
    "n_class = len(set(y))\n",
    "k = n_class\n",
    "\n",
    "# 归一化处理\n",
    "X = (X - X.min())/(X.max()-X.min())\n",
    "\n",
    "# 中心点选取(随机选择k个点作为中心点)\n",
    "mid = np.array(random.sample(list(X),k))\n",
    "\n",
    "# 循环次数（TODO:变化小于一定范围停止循环）\n",
    "max_epoch = 1000000\n",
    "\n",
    "# 初始化预测值\n",
    "predict = np.array(np.zeros((1, samples)))\n",
    "\n",
    "# 通过计算距离得到每个点的最近中心点，判断类别\n",
    "def run(predict):\n",
    "    temp = np.sum((X - mid[0])**2,axis=1)\n",
    "    for i in range(1,k):    \n",
    "        temp_sum = np.sum((X - mid[i])**2,axis=1)\n",
    "        predict = np.where(temp < temp_sum, predict, i )\n",
    "        temp = np.where(temp < temp_sum, temp, temp_sum)\n",
    "    return predict"
   ]
  },
  {
   "cell_type": "code",
   "execution_count": 107,
   "metadata": {},
   "outputs": [],
   "source": [
    "for i in range(0, max_epoch):\n",
    "    for j in range(0,k):\n",
    "        predict = run(predict)\n",
    "        mid[j] = np.sum(np.where(predict.T==j, X, 0), axis=0)/list(predict[0]).count(j)"
   ]
  },
  {
   "cell_type": "code",
   "execution_count": 108,
   "metadata": {},
   "outputs": [
    {
     "data": {
      "text/plain": [
       "array([[0., 0., 0., 0., 0., 0., 0., 0., 0., 0., 0., 0., 0., 0., 0., 0.,\n",
       "        0., 0., 0., 0., 0., 0., 0., 0., 0., 0., 0., 0., 0., 0., 0., 0.,\n",
       "        0., 0., 0., 0., 0., 0., 0., 0., 0., 0., 0., 0., 0., 0., 0., 0.,\n",
       "        0., 0., 2., 2., 1., 2., 2., 2., 2., 2., 2., 2., 2., 2., 2., 2.,\n",
       "        2., 2., 2., 2., 2., 2., 2., 2., 2., 2., 2., 2., 2., 1., 2., 2.,\n",
       "        2., 2., 2., 2., 2., 2., 2., 2., 2., 2., 2., 2., 2., 2., 2., 2.,\n",
       "        2., 2., 2., 2., 1., 2., 1., 1., 1., 1., 2., 1., 1., 1., 1., 1.,\n",
       "        1., 2., 2., 1., 1., 1., 1., 2., 1., 2., 1., 2., 1., 1., 2., 2.,\n",
       "        1., 1., 1., 1., 1., 2., 1., 1., 1., 1., 2., 1., 1., 1., 2., 1.,\n",
       "        1., 1., 2., 1., 1., 2.]])"
      ]
     },
     "execution_count": 108,
     "metadata": {},
     "output_type": "execute_result"
    }
   ],
   "source": [
    "predict"
   ]
  },
  {
   "cell_type": "code",
   "execution_count": 114,
   "metadata": {},
   "outputs": [
    {
     "name": "stdout",
     "output_type": "stream",
     "text": [
      "50\n",
      "50\n",
      "50\n"
     ]
    }
   ],
   "source": [
    "# 可以对数组按类别排序后再进行结果的比对，不过这里的数据集已经是有序的了\n",
    "print(list(y).count(list(set(y))[0]))\n",
    "print(list(y).count(list(set(y))[1]))\n",
    "print(list(y).count(list(set(y))[2]))"
   ]
  },
  {
   "cell_type": "code",
   "execution_count": 110,
   "metadata": {},
   "outputs": [
    {
     "data": {
      "text/plain": [
       "array([0., 0., 0., 0., 0., 0., 0., 0., 0., 0., 0., 0., 0., 0., 0., 0., 0.,\n",
       "       0., 0., 0., 0., 0., 0., 0., 0., 0., 0., 0., 0., 0., 0., 0., 0., 0.,\n",
       "       0., 0., 0., 0., 0., 0., 0., 0., 0., 0., 0., 0., 0., 0., 0., 0.])"
      ]
     },
     "execution_count": 110,
     "metadata": {},
     "output_type": "execute_result"
    }
   ],
   "source": [
    "predict[0][0:50]"
   ]
  },
  {
   "cell_type": "code",
   "execution_count": 111,
   "metadata": {},
   "outputs": [
    {
     "data": {
      "text/plain": [
       "array([2., 2., 1., 2., 2., 2., 2., 2., 2., 2., 2., 2., 2., 2., 2., 2., 2.,\n",
       "       2., 2., 2., 2., 2., 2., 2., 2., 2., 2., 1., 2., 2., 2., 2., 2., 2.,\n",
       "       2., 2., 2., 2., 2., 2., 2., 2., 2., 2., 2., 2., 2., 2., 2., 2.])"
      ]
     },
     "execution_count": 111,
     "metadata": {},
     "output_type": "execute_result"
    }
   ],
   "source": [
    "predict[0][50:100]"
   ]
  },
  {
   "cell_type": "code",
   "execution_count": 112,
   "metadata": {},
   "outputs": [
    {
     "data": {
      "text/plain": [
       "array([1., 2., 1., 1., 1., 1., 2., 1., 1., 1., 1., 1., 1., 2., 2., 1., 1.,\n",
       "       1., 1., 2., 1., 2., 1., 2., 1., 1., 2., 2., 1., 1., 1., 1., 1., 2.,\n",
       "       1., 1., 1., 1., 2., 1., 1., 1., 2., 1., 1., 1., 2., 1., 1., 2.])"
      ]
     },
     "execution_count": 112,
     "metadata": {},
     "output_type": "execute_result"
    }
   ],
   "source": [
    "# 最后一类错误率较高\n",
    "predict[0][100:150]"
   ]
  },
  {
   "cell_type": "code",
   "execution_count": null,
   "metadata": {},
   "outputs": [],
   "source": []
  }
 ],
 "metadata": {
  "kernelspec": {
   "display_name": "Python 3",
   "language": "python",
   "name": "python3"
  },
  "language_info": {
   "codemirror_mode": {
    "name": "ipython",
    "version": 3
   },
   "file_extension": ".py",
   "mimetype": "text/x-python",
   "name": "python",
   "nbconvert_exporter": "python",
   "pygments_lexer": "ipython3",
   "version": "3.7.0"
  }
 },
 "nbformat": 4,
 "nbformat_minor": 2
}
